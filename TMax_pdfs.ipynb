{
 "cells": [
  {
   "cell_type": "code",
   "execution_count": 31,
   "metadata": {},
   "outputs": [],
   "source": [
    "import iris\n",
    "import numpy as np\n",
    "iris.FUTURE.netcdf_promote = True"
   ]
  },
  {
   "cell_type": "code",
   "execution_count": 8,
   "metadata": {},
   "outputs": [
    {
     "name": "stdout",
     "output_type": "stream",
     "text": [
      "TMAX / (degrees_c)                  (time: 11874)\n",
      "     Dimension coordinates:\n",
      "          time                           x\n",
      "     Scalar coordinates:\n",
      "          elevation: 25.3 m\n",
      "          latitude: 51.478 degrees\n",
      "          longitude: -0.461 degrees\n",
      "     Attributes:\n",
      "          Conventions: CF-1.5\n",
      "          StationID: UKM00003772\n",
      "          StationName: HEATHROW\n"
     ]
    }
   ],
   "source": [
    "cube = iris.load_cube('/Users/scott/DATA/StationData/GHCN-D/NetCDFs/UKM00003772_HEATHROW_TMAX.nc')\n",
    "print cube"
   ]
  },
  {
   "cell_type": "code",
   "execution_count": 9,
   "metadata": {},
   "outputs": [
    {
     "name": "stdout",
     "output_type": "stream",
     "text": [
      "DimCoord([1973-01-01 00:00:00, 1973-01-02 00:00:00, 1973-01-03 00:00:00, ...,\n",
      "       2016-01-10 00:00:00, 2016-01-11 00:00:00, 2016-07-13 00:00:00], standard_name=u'time', calendar=u'gregorian', var_name='time')\n"
     ]
    }
   ],
   "source": [
    "print cube.coord('time')"
   ]
  },
  {
   "cell_type": "code",
   "execution_count": 10,
   "metadata": {},
   "outputs": [],
   "source": [
    "ntimes = len(cube.coord('time').points)"
   ]
  },
  {
   "cell_type": "code",
   "execution_count": 34,
   "metadata": {},
   "outputs": [
    {
     "name": "stdout",
     "output_type": "stream",
     "text": [
      "11874 8224\n"
     ]
    }
   ],
   "source": [
    "ts1 = cube.data[0:3650]\n",
    "ts2 = cube.data[ntimes-3650 : -1]"
   ]
  },
  {
   "cell_type": "code",
   "execution_count": 38,
   "metadata": {},
   "outputs": [
    {
     "data": {
      "image/png": "[encoded data removed]",
      "text/plain": [
       "<matplotlib.figure.Figure at 0x11c207c10>"
      ]
     },
     "metadata": {},
     "output_type": "display_data"
    }
   ],
   "source": [
    "n1, bins, patches = plt.hist(ts1, 8, normed=1, histtype='step', lw=1, color='blue', label='first half')\n",
    "n2, bins, patches = plt.hist(ts2, 8, normed=1, histtype='step', lw=1, color='red',  label='second half')"
   ]
  },
  {
   "cell_type": "code",
   "execution_count": 37,
   "metadata": {},
   "outputs": [
    {
     "data": {
      "text/plain": [
       "(14.908547945205479, 16.52044395724856)"
      ]
     },
     "execution_count": 37,
     "metadata": {},
     "output_type": "execute_result"
    }
   ],
   "source": [
    "np.mean(ts1), np.mean(ts2)"
   ]
  },
  {
   "cell_type": "code",
   "execution_count": null,
   "metadata": {},
   "outputs": [],
   "source": []
  }
 ],
 "metadata": {
  "kernelspec": {
   "display_name": "Python [default]",
   "language": "python",
   "name": "python2"
  },
  "language_info": {
   "codemirror_mode": {
    "name": "ipython",
    "version": 2
   },
   "file_extension": ".py",
   "mimetype": "text/x-python",
   "name": "python",
   "nbconvert_exporter": "python",
   "pygments_lexer": "ipython2",
   "version": "2.7.13"
  }
 },
 "nbformat": 4,
 "nbformat_minor": 2
}

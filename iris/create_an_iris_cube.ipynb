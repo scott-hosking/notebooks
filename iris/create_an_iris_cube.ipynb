{
 "cells": [
  {
   "cell_type": "markdown",
   "metadata": {},
   "source": [
    "# Make an iris cube"
   ]
  },
  {
   "cell_type": "code",
   "execution_count": 25,
   "metadata": {},
   "outputs": [],
   "source": [
    "from iris.coords import DimCoord\n",
    "from iris.cube import Cube\n",
    "import numpy as np"
   ]
  },
  {
   "cell_type": "code",
   "execution_count": 27,
   "metadata": {},
   "outputs": [],
   "source": [
    "# define cube information\n",
    "ysize = 20\n",
    "xsize = 10\n",
    "long_name = 'something'\n",
    "units     = 'kg'\n",
    "\n",
    "latitude  = DimCoord(np.linspace(-90, 90, ysize),standard_name='latitude', units='degrees')\n",
    "longitude = DimCoord(np.linspace(0, 360,  xsize), standard_name='longitude', units='degrees')"
   ]
  },
  {
   "cell_type": "code",
   "execution_count": 28,
   "metadata": {},
   "outputs": [],
   "source": [
    "# Build cube\n",
    "cube = Cube( np.zeros((ysize, xsize), np.float32), dim_coords_and_dims=[(latitude, 0),(longitude, 1)], long_name=long_name, units=units )"
   ]
  },
  {
   "cell_type": "code",
   "execution_count": 29,
   "metadata": {},
   "outputs": [
    {
     "name": "stdout",
     "output_type": "stream",
     "text": [
      "something / (kg)                    (latitude: 20; longitude: 10)\n",
      "     Dimension coordinates:\n",
      "          latitude                           x              -\n",
      "          longitude                          -              x\n"
     ]
    }
   ],
   "source": [
    "print(cube)"
   ]
  },
  {
   "cell_type": "markdown",
   "metadata": {},
   "source": [
    "# What's next?\n",
    "cube.data = 'stick you data here'"
   ]
  }
 ],
 "metadata": {
  "kernelspec": {
   "display_name": "Python 3",
   "language": "python",
   "name": "python3"
  },
  "language_info": {
   "codemirror_mode": {
    "name": "ipython",
    "version": 3
   },
   "file_extension": ".py",
   "mimetype": "text/x-python",
   "name": "python",
   "nbconvert_exporter": "python",
   "pygments_lexer": "ipython3",
   "version": "3.6.8"
  }
 },
 "nbformat": 4,
 "nbformat_minor": 2
}

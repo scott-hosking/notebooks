{
 "cells": [
  {
   "cell_type": "markdown",
   "metadata": {},
   "source": [
    "# WORK IN PROGRESS: \n",
    "\n",
    "Working with a rotated pole (RACMO data)"
   ]
  },
  {
   "cell_type": "code",
   "execution_count": 93,
   "metadata": {},
   "outputs": [],
   "source": [
    "import xarray as xr\n",
    "import numpy as np\n",
    "import matplotlib.pyplot as plt\n",
    "import cartopy.crs as ccrs\n",
    "import cartopy.feature as cfe\n",
    "import pyproj"
   ]
  },
  {
   "cell_type": "markdown",
   "metadata": {},
   "source": [
    "# Read in data"
   ]
  },
  {
   "cell_type": "code",
   "execution_count": 135,
   "metadata": {},
   "outputs": [],
   "source": [
    "ds = xr.open_dataset('~/DATA/RACMO/racmo_sample.nc')"
   ]
  },
  {
   "cell_type": "markdown",
   "metadata": {},
   "source": [
    "# Look at dataset we have just read in"
   ]
  },
  {
   "cell_type": "code",
   "execution_count": 134,
   "metadata": {},
   "outputs": [
    {
     "data": {
      "text/plain": [
       "<xarray.DataArray 'precip' (height: 1, rlat: 240, rlon: 262)>\n",
       "array([[[1.061562e-05, 1.090497e-05, ..., 3.815836e-06, 4.014766e-06],\n",
       "        [1.421444e-05, 1.249641e-05, ..., 3.237131e-06, 2.206313e-06],\n",
       "        ...,\n",
       "        [6.438093e-06, 7.902940e-06, ..., 7.450827e-06, 6.763615e-06],\n",
       "        [5.316852e-06, 5.389190e-06, ..., 6.347671e-06, 6.582770e-06]]],\n",
       "      dtype=float32)\n",
       "Coordinates:\n",
       "    lon      (rlat, rlon) float64 -126.9 -127.1 -127.3 -127.5 -127.7 -127.9 ...\n",
       "    lat      (rlat, rlon) float64 ...\n",
       "  * rlon     (rlon) float64 -32.75 -32.5 -32.25 -32.0 -31.75 -31.5 -31.25 ...\n",
       "  * rlat     (rlat) float64 -30.0 -29.75 -29.5 -29.25 -29.0 -28.75 -28.5 ...\n",
       "  * height   (height) float64 0.0"
      ]
     },
     "execution_count": 134,
     "metadata": {},
     "output_type": "execute_result"
    }
   ],
   "source": [
    "ds.precip"
   ]
  },
  {
   "cell_type": "markdown",
   "metadata": {},
   "source": [
    "# Select precip 'Data variable' and squeeze to remove height (as it has a size of 1)"
   ]
  },
  {
   "cell_type": "code",
   "execution_count": 123,
   "metadata": {},
   "outputs": [
    {
     "data": {
      "text/plain": [
       "<xarray.DataArray 'precip' (time: 5, rlat: 240, rlon: 262)>\n",
       "[314400 values with dtype=float32]\n",
       "Coordinates:\n",
       "    lon      (rlat, rlon) float64 ...\n",
       "    lat      (rlat, rlon) float64 ...\n",
       "  * rlon     (rlon) float64 -32.75 -32.5 -32.25 -32.0 -31.75 -31.5 -31.25 ...\n",
       "  * rlat     (rlat) float64 -30.0 -29.75 -29.5 -29.25 -29.0 -28.75 -28.5 ...\n",
       "    height   float64 0.0\n",
       "  * time     (time) datetime64[ns] 2001-01-01 2001-01-02 2001-01-03 ...\n",
       "Attributes:\n",
       "    standard_name:  precipitation_flux\n",
       "    long_name:      Total Precipitative Flux\n",
       "    units:          kg m-2 s-1\n",
       "    cell_methods:   time: 24-hr averaged values\n",
       "    grid_mapping:   rotated_pole"
      ]
     },
     "execution_count": 123,
     "metadata": {},
     "output_type": "execute_result"
    }
   ],
   "source": [
    "precip = ds.precip.squeeze()\n",
    "precip"
   ]
  },
  {
   "cell_type": "markdown",
   "metadata": {},
   "source": [
    "# Project rotated grid onto lat-lon grid !!!"
   ]
  },
  {
   "cell_type": "code",
   "execution_count": 126,
   "metadata": {},
   "outputs": [
    {
     "data": {
      "text/plain": [
       "<xarray.DataArray 'rotated_pole' ()>\n",
       "array(9.96921e+36, dtype=float32)\n",
       "Attributes:\n",
       "    grid_mapping_name:          rotated_latitude_longitude\n",
       "    grid_north_pole_latitude:   -180.0\n",
       "    grid_north_pole_longitude:  -170.0\n",
       "    proj4_params:               -m 57.295779506 +proj=ob_tran +o_proj=latlon ...\n",
       "    proj_parameters:            -m 57.295779506 +proj=ob_tran +o_proj=latlon ...\n",
       "    projection_name:            rotated_latitude_longitude\n",
       "    long_name:                  projection details\n",
       "    EPSG_code:                  "
      ]
     },
     "execution_count": 126,
     "metadata": {},
     "output_type": "execute_result"
    }
   ],
   "source": [
    "ds.rotated_pole"
   ]
  },
  {
   "cell_type": "code",
   "execution_count": 124,
   "metadata": {},
   "outputs": [
    {
     "data": {
      "text/plain": [
       "(array([[-32.75]]),\n",
       " array([[-30.]]),\n",
       " array([[-0.86598621]]),\n",
       " array([[0.68922846]]))"
      ]
     },
     "execution_count": 124,
     "metadata": {},
     "output_type": "execute_result"
    }
   ],
   "source": [
    "p = pyproj.Proj('+proj=ob_tran +o_proj=latlon +o_lat_p=-180.0 +lon_0=10.0')\n",
    "\n",
    "x1,y1 = np.meshgrid(ds.rlon.values[0], ds.rlat.values[0])\n",
    "\n",
    "lon, lat = p(x1, y1)\n",
    "\n",
    "x1, y1, lon, lat"
   ]
  },
  {
   "cell_type": "markdown",
   "metadata": {},
   "source": [
    "# Plot map"
   ]
  },
  {
   "cell_type": "code",
   "execution_count": 127,
   "metadata": {},
   "outputs": [
    {
     "data": {
      "text/plain": [
       "Text(0.5, 1.0, 'My title \\n')"
      ]
     },
     "execution_count": 127,
     "metadata": {},
     "output_type": "execute_result"
    },
    {
     "data": {
      "image/png": "[encoded data removed]",
      "text/plain": [
       "<Figure size 1080x432 with 2 Axes>"
      ]
     },
     "metadata": {
      "needs_background": "light"
     },
     "output_type": "display_data"
    }
   ],
   "source": [
    "plt.figure(figsize=(15,6))\n",
    "\n",
    "ax = plt.subplot( projection=ccrs.Stereographic(central_longitude=7., central_latitude=-90.) )\n",
    "\n",
    "ax.set_extent([0,359,-80,-60], ccrs.PlateCarree())\n",
    "\n",
    "precip.isel(time=1).plot.contourf('rlon', 'rlat', ax=ax, levels=30, transform=ccrs.PlateCarree())\n",
    "ax.coastlines(resolution='50m')\n",
    "# ax.gridlines(draw_labels=True)\n",
    "\n",
    "# ax.add_feature(cfe.NaturalEarthFeature('physical', 'ocean', '50m', edgecolor='none', facecolor=cfe.COLORS['water']))\n",
    "# ax.add_feature(cfe.NaturalEarthFeature('physical', 'antarctic_ice_shelves_polys', '50m', edgecolor='LightGrey', \n",
    "#                                            facecolor='LightGrey', linewidth=0.2))\n",
    "# ax.add_feature(cfe.NaturalEarthFeature('physical', 'coastline', '50m', edgecolor='k', facecolor='white', linewidth=0.5) )\n",
    "# ax.add_feature(cfe.NaturalEarthFeature('physical', 'antarctic_ice_shelves_lines', '50m', edgecolor='k', facecolor='none',\n",
    "#                                            linewidth=0.2))\n",
    "\n",
    "ax.set_title('My title \\n', size='xx-large')"
   ]
  },
  {
   "cell_type": "code",
   "execution_count": null,
   "metadata": {},
   "outputs": [],
   "source": []
  }
 ],
 "metadata": {
  "kernelspec": {
   "display_name": "Python 3",
   "language": "python",
   "name": "python3"
  },
  "language_info": {
   "codemirror_mode": {
    "name": "ipython",
    "version": 3
   },
   "file_extension": ".py",
   "mimetype": "text/x-python",
   "name": "python",
   "nbconvert_exporter": "python",
   "pygments_lexer": "ipython3",
   "version": "3.6.8"
  }
 },
 "nbformat": 4,
 "nbformat_minor": 2
}
